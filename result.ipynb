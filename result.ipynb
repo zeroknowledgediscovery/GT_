{
 "cells": [
  {
   "cell_type": "code",
   "execution_count": 1,
   "metadata": {},
   "outputs": [],
   "source": [
    "import pandas as pd\n",
    "import numpy as np\n",
    "import pylab as plt\n",
    "%matplotlib inline\n",
    "plt.style.use('fivethirtyeight')"
   ]
  },
  {
   "cell_type": "code",
   "execution_count": 2,
   "metadata": {},
   "outputs": [],
   "source": [
    "CG=pd.read_csv('causal_graph.csv')"
   ]
  },
  {
   "cell_type": "code",
   "execution_count": 4,
   "metadata": {},
   "outputs": [
    {
     "data": {
      "text/html": [
       "<div>\n",
       "<style scoped>\n",
       "    .dataframe tbody tr th:only-of-type {\n",
       "        vertical-align: middle;\n",
       "    }\n",
       "\n",
       "    .dataframe tbody tr th {\n",
       "        vertical-align: top;\n",
       "    }\n",
       "\n",
       "    .dataframe thead th {\n",
       "        text-align: right;\n",
       "    }\n",
       "</style>\n",
       "<table border=\"1\" class=\"dataframe\">\n",
       "  <thead>\n",
       "    <tr style=\"text-align: right;\">\n",
       "      <th></th>\n",
       "      <th>Unnamed: 0</th>\n",
       "      <th>src</th>\n",
       "      <th>tgt</th>\n",
       "      <th>ss</th>\n",
       "      <th>delay</th>\n",
       "      <th>gamma</th>\n",
       "      <th>omega</th>\n",
       "    </tr>\n",
       "  </thead>\n",
       "  <tbody>\n",
       "    <tr>\n",
       "      <th>0</th>\n",
       "      <td>0</td>\n",
       "      <td>Dist</td>\n",
       "      <td>Dist</td>\n",
       "      <td>MED</td>\n",
       "      <td>3.5</td>\n",
       "      <td>0.337679</td>\n",
       "      <td>0.042891</td>\n",
       "    </tr>\n",
       "    <tr>\n",
       "      <th>1</th>\n",
       "      <td>1</td>\n",
       "      <td>Dist</td>\n",
       "      <td>SiteTypeRestaurant</td>\n",
       "      <td>HI</td>\n",
       "      <td>2.0</td>\n",
       "      <td>0.342195</td>\n",
       "      <td>0.064180</td>\n",
       "    </tr>\n",
       "    <tr>\n",
       "      <th>2</th>\n",
       "      <td>2</td>\n",
       "      <td>Dist</td>\n",
       "      <td>SiteTypeRestaurant</td>\n",
       "      <td>LOW</td>\n",
       "      <td>5.0</td>\n",
       "      <td>0.329637</td>\n",
       "      <td>0.123516</td>\n",
       "    </tr>\n",
       "    <tr>\n",
       "      <th>3</th>\n",
       "      <td>3</td>\n",
       "      <td>Dist</td>\n",
       "      <td>SiteTypeRestaurant</td>\n",
       "      <td>MED</td>\n",
       "      <td>3.5</td>\n",
       "      <td>0.332462</td>\n",
       "      <td>-0.102918</td>\n",
       "    </tr>\n",
       "    <tr>\n",
       "      <th>4</th>\n",
       "      <td>4</td>\n",
       "      <td>Dist</td>\n",
       "      <td>popFrac</td>\n",
       "      <td>HI</td>\n",
       "      <td>2.0</td>\n",
       "      <td>0.307621</td>\n",
       "      <td>0.557044</td>\n",
       "    </tr>\n",
       "  </tbody>\n",
       "</table>\n",
       "</div>"
      ],
      "text/plain": [
       "   Unnamed: 0   src                 tgt   ss  delay     gamma     omega\n",
       "0           0  Dist                Dist  MED    3.5  0.337679  0.042891\n",
       "1           1  Dist  SiteTypeRestaurant   HI    2.0  0.342195  0.064180\n",
       "2           2  Dist  SiteTypeRestaurant  LOW    5.0  0.329637  0.123516\n",
       "3           3  Dist  SiteTypeRestaurant  MED    3.5  0.332462 -0.102918\n",
       "4           4  Dist             popFrac   HI    2.0  0.307621  0.557044"
      ]
     },
     "execution_count": 4,
     "metadata": {},
     "output_type": "execute_result"
    }
   ],
   "source": [
    "CG.head()"
   ]
  },
  {
   "cell_type": "markdown",
   "metadata": {},
   "source": [
    "# Note\n",
    "---\n",
    "\n",
    "## src -> tgt\n",
    "\n",
    "+ ss: Social Success [ LOW, MED, HI, LEFT]\n",
    "+ delay: the average time scale of the influence\n",
    "---"
   ]
  },
  {
   "cell_type": "code",
   "execution_count": 6,
   "metadata": {},
   "outputs": [
    {
     "data": {
      "text/plain": [
       "6"
      ]
     },
     "execution_count": 6,
     "metadata": {},
     "output_type": "execute_result"
    }
   ],
   "source": [
    "CG[CG.omega <0]"
   ]
  },
  {
   "cell_type": "code",
   "execution_count": null,
   "metadata": {},
   "outputs": [],
   "source": []
  }
 ],
 "metadata": {
  "kernelspec": {
   "display_name": "Python 3",
   "language": "python",
   "name": "python3"
  },
  "language_info": {
   "codemirror_mode": {
    "name": "ipython",
    "version": 3
   },
   "file_extension": ".py",
   "mimetype": "text/x-python",
   "name": "python",
   "nbconvert_exporter": "python",
   "pygments_lexer": "ipython3",
   "version": "3.7.1"
  }
 },
 "nbformat": 4,
 "nbformat_minor": 2
}
