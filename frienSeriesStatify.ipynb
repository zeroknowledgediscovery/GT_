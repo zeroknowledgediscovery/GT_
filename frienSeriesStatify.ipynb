{
 "cells": [
  {
   "cell_type": "markdown",
   "metadata": {},
   "source": [
    "# We stratify the 100 collaborators\n",
    "---\n",
    "\n",
    "+ 1. People who left town (2) \n",
    "+ 2. People with poor social life (18)\n",
    "+ 3. People with moderate social life  (59)\n",
    "+ 4. Peoiple with highly active social life (21) "
   ]
  },
  {
   "cell_type": "code",
   "execution_count": 54,
   "metadata": {},
   "outputs": [],
   "source": [
    "import pandas as pd\n",
    "import numpy as np\n",
    "import seaborn as sns\n",
    "import pylab as plt\n",
    "%matplotlib inline\n",
    "plt.style.use('fivethirtyeight')"
   ]
  },
  {
   "cell_type": "code",
   "execution_count": 63,
   "metadata": {},
   "outputs": [],
   "source": [
    "ff1=pd.read_csv('friendseries.csv',parse_dates=True)\n",
    "ff=ff1.pivot('UID','Timestep','FriendCount')\n",
    "ff.columns=pd.to_datetime(ff.columns)"
   ]
  },
  {
   "cell_type": "code",
   "execution_count": 64,
   "metadata": {},
   "outputs": [],
   "source": [
    "Ff=ff#.transpose()\n",
    "F=ff.transpose().fillna(-10000).sum().sort_values()"
   ]
  },
  {
   "cell_type": "code",
   "execution_count": 93,
   "metadata": {},
   "outputs": [
    {
     "data": {
      "text/plain": [
       "<matplotlib.axes._subplots.AxesSubplot at 0x7f0ebfe5a0f0>"
      ]
     },
     "execution_count": 93,
     "metadata": {},
     "output_type": "execute_result"
    },
    {
     "data": {
      "image/png": "[encoded data removed]",
      "text/plain": [
       "<Figure size 432x288 with 1 Axes>"
      ]
     },
     "metadata": {},
     "output_type": "display_data"
    }
   ],
   "source": [
    "p_left_town=F[F<0]\n",
    "p_soc_l=F[(F>0) & (F<1100)]  # low social\n",
    "p_soc_m=F[(F>1100) & (F<1600)]  # medium social\n",
    "p_soc_h=F[(F>1600)]   # high social\n",
    "F[F>0].plot()"
   ]
  },
  {
   "cell_type": "code",
   "execution_count": 94,
   "metadata": {},
   "outputs": [
    {
     "data": {
      "text/plain": [
       "UID\n",
       "UID-0ce365b3ff   -549577.0\n",
       "UID-1ebc347927   -219750.0\n",
       "dtype: float64"
      ]
     },
     "execution_count": 94,
     "metadata": {},
     "output_type": "execute_result"
    }
   ],
   "source": [
    "# these people seem to have left\n",
    "p_left_town  "
   ]
  },
  {
   "cell_type": "code",
   "execution_count": 114,
   "metadata": {},
   "outputs": [],
   "source": [
    "dlt=ff1[['UID','Lat','Lon']].drop_duplicates().set_index('UID').loc[ff1.set_index('UID').loc[p_left_town.index.values].index.drop_duplicates()]"
   ]
  },
  {
   "cell_type": "code",
   "execution_count": 113,
   "metadata": {},
   "outputs": [],
   "source": [
    "dls=ff1[['UID','Lat','Lon']].drop_duplicates().set_index('UID').loc[ff1.set_index('UID').loc[p_soc_l.index.values].index.drop_duplicates()]"
   ]
  },
  {
   "cell_type": "code",
   "execution_count": 112,
   "metadata": {},
   "outputs": [],
   "source": [
    "dms=ff1[['UID','Lat','Lon']].drop_duplicates().set_index('UID').loc[ff1.set_index('UID').loc[p_soc_m.index.values].index.drop_duplicates()]"
   ]
  },
  {
   "cell_type": "code",
   "execution_count": null,
   "metadata": {},
   "outputs": [],
   "source": [
    "dhs=ff1[['UID','Lat','Lon']].drop_duplicates().set_index('UID').loc[ff1.set_index('UID').loc[p_soc_h.index.values].index.drop_duplicates()]"
   ]
  },
  {
   "cell_type": "code",
   "execution_count": 115,
   "metadata": {},
   "outputs": [],
   "source": [
    "def getVariableName(row):\n",
    "    return str(row.Lat-0.5)+'#'+str(row.Lat+0.5)+'#'+str(row.Lon-0.5)+'#'+str(row.Lon+0.5)+'#'"
   ]
  },
  {
   "cell_type": "code",
   "execution_count": 116,
   "metadata": {},
   "outputs": [],
   "source": [
    "dlt['varname']=dlt.apply(getVariableName,axis=1)\n",
    "dls['varname']=dls.apply(getVariableName,axis=1)\n",
    "dms['varname']=dms.apply(getVariableName,axis=1)\n",
    "dhs['varname']=dhs.apply(getVariableName,axis=1)\n"
   ]
  },
  {
   "cell_type": "code",
   "execution_count": 118,
   "metadata": {},
   "outputs": [],
   "source": [
    "dlt.to_csv('left_town.csv')\n",
    "dls.to_csv('low_soc.csv')\n",
    "dms.to_csv('med_soc.csv')\n",
    "dhs.to_csv('hig_soc.csv')\n"
   ]
  },
  {
   "cell_type": "code",
   "execution_count": 119,
   "metadata": {},
   "outputs": [],
   "source": [
    "def readVarName(csvfile):\n",
    "    return pd.read_csv(csvfile).varname.values"
   ]
  },
  {
   "cell_type": "code",
   "execution_count": 125,
   "metadata": {},
   "outputs": [
    {
     "data": {
      "text/plain": [
       "array(['91.5#92.5#91.5#92.5#', '28.5#29.5#28.5#29.5#',\n",
       "       '86.5#87.5#86.5#87.5#', '14.5#15.5#14.5#15.5#',\n",
       "       '60.5#61.5#60.5#61.5#', '85.5#86.5#85.5#86.5#',\n",
       "       '21.5#22.5#21.5#22.5#', '90.5#91.5#90.5#91.5#',\n",
       "       '37.5#38.5#37.5#38.5#', '2.5#3.5#2.5#3.5#', '84.5#85.5#84.5#85.5#',\n",
       "       '70.5#71.5#70.5#71.5#', '71.5#72.5#71.5#72.5#',\n",
       "       '46.5#47.5#46.5#47.5#', '97.5#98.5#97.5#98.5#',\n",
       "       '66.5#67.5#66.5#67.5#', '62.5#63.5#62.5#63.5#',\n",
       "       '49.5#50.5#49.5#50.5#'], dtype=object)"
      ]
     },
     "execution_count": 125,
     "metadata": {},
     "output_type": "execute_result"
    }
   ],
   "source": [
    "readVarName('low_soc.csv')"
   ]
  },
  {
   "cell_type": "code",
   "execution_count": null,
   "metadata": {},
   "outputs": [],
   "source": []
  }
 ],
 "metadata": {
  "kernelspec": {
   "display_name": "Python 2",
   "language": "python",
   "name": "python2"
  },
  "language_info": {
   "codemirror_mode": {
    "name": "ipython",
    "version": 3
   },
   "file_extension": ".py",
   "mimetype": "text/x-python",
   "name": "python",
   "nbconvert_exporter": "python",
   "pygments_lexer": "ipython3",
   "version": "3.7.1"
  }
 },
 "nbformat": 4,
 "nbformat_minor": 2
}
