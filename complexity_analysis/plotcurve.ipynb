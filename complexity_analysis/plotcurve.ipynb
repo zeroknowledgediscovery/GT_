{
 "cells": [
  {
   "cell_type": "code",
   "execution_count": 1,
   "metadata": {},
   "outputs": [],
   "source": [
    "import pandas as pd\n",
    "import numpy as np\n",
    "import seaborn as sns\n",
    "%matplotlib inline"
   ]
  },
  {
   "cell_type": "code",
   "execution_count": 72,
   "metadata": {},
   "outputs": [],
   "source": [
    "df1=pd.read_csv('CRIMEgamma_plots.csv')\n",
    "df=pd.read_csv('TA1Agamma_plots.csv')\n",
    "df2=pd.read_csv('TERRORcomp2/gammacsvs/TERROR2012_2016gamma_plots.csv')\n",
    "df21=pd.read_csv('TERRORcomp2/gammacsvs/TERROR2011_2015gamma_plots.csv')\n",
    "df22=pd.read_csv('TERRORcomp2/gammacsvs/TERROR2010_2014gamma_plots.csv')\n"
   ]
  },
  {
   "cell_type": "code",
   "execution_count": 73,
   "metadata": {},
   "outputs": [],
   "source": [
    "from scipy.optimize import curve_fit\n",
    "from scipy import stats\n",
    "\n",
    "def zplot(df,var='gamma',gmin=-100000000,gmax=1000000,u=0,ax=None,col=None,R=12):\n",
    "    \n",
    "    df=df[df[var].between(gmin,gmax)]\n",
    "    \n",
    "    s=pd.cut(df[var],R)\n",
    "    df['code'] = s.cat.codes\n",
    "    zf=pd.DataFrame(df.code.value_counts())\n",
    "    zf=zf/zf.code.values[u]\n",
    "    zf=zf.reset_index().drop('index',axis=1).sort_values('code')\n",
    "    ax=zf.loc[:u,:].plot(style='-o',color=col,loglog=True,ax=ax)\n",
    "    ar=zf.loc[:u,:].reset_index().values\n",
    "    #popt, pcov = curve_fit(f, np.log(ar[:,0]), np.log(ar[:,1])) # your data x, y to fit\n",
    "    slope, intercept, r_value, p_value, std_err = stats.linregress(np.log(ar[:,0]), np.log(ar[:,1]))\n",
    "    print(slope,p_value, std_err)\n",
    "    return ax, slope, r_value"
   ]
  },
  {
   "cell_type": "code",
   "execution_count": 74,
   "metadata": {},
   "outputs": [
    {
     "data": {
      "text/html": [
       "<div>\n",
       "<style scoped>\n",
       "    .dataframe tbody tr th:only-of-type {\n",
       "        vertical-align: middle;\n",
       "    }\n",
       "\n",
       "    .dataframe tbody tr th {\n",
       "        vertical-align: top;\n",
       "    }\n",
       "\n",
       "    .dataframe thead th {\n",
       "        text-align: right;\n",
       "    }\n",
       "</style>\n",
       "<table border=\"1\" class=\"dataframe\">\n",
       "  <thead>\n",
       "    <tr style=\"text-align: right;\">\n",
       "      <th></th>\n",
       "      <th>variable</th>\n",
       "      <th>srcmean_gamma</th>\n",
       "      <th>srcmed_gamma</th>\n",
       "      <th>tgtmean_gamma</th>\n",
       "      <th>tgtmed_gamma</th>\n",
       "      <th>numSrc</th>\n",
       "      <th>numTgt</th>\n",
       "    </tr>\n",
       "  </thead>\n",
       "  <tbody>\n",
       "    <tr>\n",
       "      <th>0</th>\n",
       "      <td>52.5#53.5#52.5#53.5#meetingPairs</td>\n",
       "      <td>0.026623</td>\n",
       "      <td>0.018818</td>\n",
       "      <td>0.026303</td>\n",
       "      <td>0.018804</td>\n",
       "      <td>672</td>\n",
       "      <td>5735</td>\n",
       "    </tr>\n",
       "    <tr>\n",
       "      <th>1</th>\n",
       "      <td>92.5#93.5#92.5#93.5#myFriends</td>\n",
       "      <td>0.061721</td>\n",
       "      <td>0.040288</td>\n",
       "      <td>0.027942</td>\n",
       "      <td>0.020671</td>\n",
       "      <td>992</td>\n",
       "      <td>2035</td>\n",
       "    </tr>\n",
       "    <tr>\n",
       "      <th>2</th>\n",
       "      <td>33.5#34.5#33.5#34.5#meetingPairs</td>\n",
       "      <td>0.022425</td>\n",
       "      <td>0.014174</td>\n",
       "      <td>0.039858</td>\n",
       "      <td>0.020716</td>\n",
       "      <td>1015</td>\n",
       "      <td>5580</td>\n",
       "    </tr>\n",
       "    <tr>\n",
       "      <th>3</th>\n",
       "      <td>66.5#67.5#66.5#67.5#popFrac</td>\n",
       "      <td>0.037348</td>\n",
       "      <td>0.019487</td>\n",
       "      <td>0.050419</td>\n",
       "      <td>0.024452</td>\n",
       "      <td>908</td>\n",
       "      <td>5681</td>\n",
       "    </tr>\n",
       "    <tr>\n",
       "      <th>4</th>\n",
       "      <td>64.5#65.5#64.5#65.5#myFriends</td>\n",
       "      <td>0.388672</td>\n",
       "      <td>0.380931</td>\n",
       "      <td>0.030470</td>\n",
       "      <td>0.022362</td>\n",
       "      <td>615</td>\n",
       "      <td>543</td>\n",
       "    </tr>\n",
       "  </tbody>\n",
       "</table>\n",
       "</div>"
      ],
      "text/plain": [
       "                           variable  srcmean_gamma  srcmed_gamma  \\\n",
       "0  52.5#53.5#52.5#53.5#meetingPairs       0.026623      0.018818   \n",
       "1     92.5#93.5#92.5#93.5#myFriends       0.061721      0.040288   \n",
       "2  33.5#34.5#33.5#34.5#meetingPairs       0.022425      0.014174   \n",
       "3       66.5#67.5#66.5#67.5#popFrac       0.037348      0.019487   \n",
       "4     64.5#65.5#64.5#65.5#myFriends       0.388672      0.380931   \n",
       "\n",
       "   tgtmean_gamma  tgtmed_gamma  numSrc  numTgt  \n",
       "0       0.026303      0.018804     672    5735  \n",
       "1       0.027942      0.020671     992    2035  \n",
       "2       0.039858      0.020716    1015    5580  \n",
       "3       0.050419      0.024452     908    5681  \n",
       "4       0.030470      0.022362     615     543  "
      ]
     },
     "execution_count": 74,
     "metadata": {},
     "output_type": "execute_result"
    }
   ],
   "source": [
    "df.head()"
   ]
  },
  {
   "cell_type": "code",
   "execution_count": 76,
   "metadata": {},
   "outputs": [
    {
     "name": "stdout",
     "output_type": "stream",
     "text": [
      "(-0.7496331361192273, 4.024159594810059e-07, 0.12391281528484122)\n",
      "(-1.6794772315531272, 2.3468089978360093e-18, 0.1018676838614456)\n",
      "(-1.0847570656164232, 5.99176577926959e-27, 0.03880354038419128)\n",
      "(-1.1968427954102192, 5.385164603814187e-25, 0.04441219769572086)\n"
     ]
    },
    {
     "name": "stderr",
     "output_type": "stream",
     "text": [
      "/home/ishanu/.local/lib/python2.7/site-packages/ipykernel_launcher.py:9: SettingWithCopyWarning: \n",
      "A value is trying to be set on a copy of a slice from a DataFrame.\n",
      "Try using .loc[row_indexer,col_indexer] = value instead\n",
      "\n",
      "See the caveats in the documentation: http://pandas.pydata.org/pandas-docs/stable/indexing.html#indexing-view-versus-copy\n",
      "  if __name__ == '__main__':\n"
     ]
    },
    {
     "name": "stdout",
     "output_type": "stream",
     "text": [
      "(-1.1900301782892084, 4.65565608306974e-22, 0.04947580386512426)\n"
     ]
    },
    {
     "data": {
      "image/png": "[encoded data removed]",
      "text/plain": [
       "<Figure size 432x288 with 1 Axes>"
      ]
     },
     "metadata": {
      "needs_background": "light"
     },
     "output_type": "display_data"
    }
   ],
   "source": [
    "R=45\n",
    "U=1\n",
    "gmin=50\n",
    "gmax=500000\n",
    "[ax, slope, r_value]=zplot(df,var='numTgt',R=R,u=U,gmin=gmin,gmax=gmax,col='b')\n",
    "#[ax, slope, r_value]=zplot(df,var='numSrc',R=R,u=U,gmin=gmin,gmax=gmax,ax=ax,col='b')\n",
    "#[ax, slope, r_value]=zplot(df1,var='numSrc',R=R,u=U,gmin=gmin,gmax=gmax,ax=ax,col='r')\n",
    "[ax, slope, r_value]=zplot(df1,var='numTgt',R=R,u=U,gmin=gmin,gmax=gmax,ax=ax,col='r')\n",
    "#[ax, slope, r_value]=zplot(df2,var='numSrc',R=R,u=U,gmin=gmin,gmax=gmax,ax=ax,col='r')\n",
    "[ax, slope, r_value]=zplot(df2,var='numTgt',R=R,u=U,gmin=gmin,gmax=gmax,ax=ax,col='r')\n",
    "#[ax, slope, r_value]=zplot(df21,var='numSrc',R=R,u=U,gmin=gmin,gmax=gmax,ax=ax,col='r')\n",
    "[ax, slope, r_value]=zplot(df21,var='numTgt',R=R,u=U,gmin=gmin,gmax=gmax,ax=ax,col='r')\n",
    "[ax, slope, r_value]=zplot(df22,var='numTgt',R=R,u=U,gmin=gmin,gmax=gmax,ax=ax,col='r')\n"
   ]
  },
  {
   "cell_type": "markdown",
   "metadata": {},
   "source": [
    "## df.columns"
   ]
  },
  {
   "cell_type": "code",
   "execution_count": 86,
   "metadata": {},
   "outputs": [
    {
     "name": "stdout",
     "output_type": "stream",
     "text": [
      "(-1.0868853710432493, 9.431043047037063e-12, 0.11162059033544289)\n",
      "(-1.0586318809834008, 9.75928225432417e-10, 0.12561500481728777)\n",
      "(-0.9598687726551376, 2.4881301389418323e-15, 0.0781081310393975)\n",
      "(-0.6382541306392008, 2.2348106996671424e-09, 0.08322748795933564)\n",
      "(-0.6045489038520396, 2.188645510259366e-08, 0.08644630982300489)\n"
     ]
    },
    {
     "data": {
      "image/png": "[encoded data removed]",
      "text/plain": [
       "<Figure size 432x288 with 1 Axes>"
      ]
     },
     "metadata": {
      "needs_background": "light"
     },
     "output_type": "display_data"
    }
   ],
   "source": [
    "R=45\n",
    "U=1\n",
    "gmin=0.01\n",
    "gmax=0.8\n",
    "[ax, slope, r_value]=zplot(df,var='tgtmean_gamma',R=R,u=U,gmin=gmin,gmax=gmax,col='b')\n",
    "#[ax, slope, r_value]=zplot(df,var='numSrc',R=R,u=U,gmin=gmin,gmax=gmax,ax=ax,col='b')\n",
    "#[ax, slope, r_value]=zplot(df1,var='numSrc',R=R,u=U,gmin=gmin,gmax=gmax,ax=ax,col='r')\n",
    "[ax, slope, r_value]=zplot(df1,var='tgtmean_gamma',R=R,u=U,gmin=gmin,gmax=gmax,ax=ax,col='r')\n",
    "#[ax, slope, r_value]=zplot(df2,var='numSrc',R=R,u=U,gmin=gmin,gmax=gmax,ax=ax,col='r')\n",
    "[ax, slope, r_value]=zplot(df2,var='tgtmean_gamma',R=R,u=U,gmin=gmin,gmax=gmax,ax=ax,col='r')\n",
    "#[ax, slope, r_value]=zplot(df21,var='numSrc',R=R,u=U,gmin=gmin,gmax=gmax,ax=ax,col='r')\n",
    "[ax, slope, r_value]=zplot(df21,var='tgtmean_gamma',R=R,u=U,gmin=gmin,gmax=gmax,ax=ax,col='r')\n",
    "[ax, slope, r_value]=zplot(df22,var='tgtmean_gamma',R=R,u=U,gmin=gmin,gmax=gmax,ax=ax,col='r')\n"
   ]
  },
  {
   "cell_type": "code",
   "execution_count": null,
   "metadata": {},
   "outputs": [],
   "source": []
  }
 ],
 "metadata": {
  "kernelspec": {
   "display_name": "Python 2",
   "language": "python",
   "name": "python2"
  },
  "language_info": {
   "codemirror_mode": {
    "name": "ipython",
    "version": 2
   },
   "file_extension": ".py",
   "mimetype": "text/x-python",
   "name": "python",
   "nbconvert_exporter": "python",
   "pygments_lexer": "ipython2",
   "version": "2.7.15"
  }
 },
 "nbformat": 4,
 "nbformat_minor": 2
}
